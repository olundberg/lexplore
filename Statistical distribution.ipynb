{
 "cells": [
  {
   "cell_type": "markdown",
   "metadata": {},
   "source": [
    "# Statistical distribution\n",
    "lundberg.oscar@gmail.com"
   ]
  },
  {
   "cell_type": "code",
   "execution_count": 1,
   "metadata": {},
   "outputs": [],
   "source": [
    "import pandas as pd\n",
    "import os"
   ]
  },
  {
   "cell_type": "markdown",
   "metadata": {},
   "source": [
    "## Loading the data\n",
    "I did notice there are two lines of headers, where only one will be used in the dataframe.\n",
    "As described in the .pdf-file, we valide that there are 5491 rows in the file."
   ]
  },
  {
   "cell_type": "code",
   "execution_count": 2,
   "metadata": {},
   "outputs": [
    {
     "name": "stdout",
     "output_type": "stream",
     "text": [
      "Index(['Unnamed: 0', 'Unnamed: 1', 'Unnamed: 2',\n",
      "       'The predicted value of target variable from ML model', 'Unnamed: 4',\n",
      "       'Unnamed: 5', 'August Grade 1 is School month 1',\n",
      "       'Percentile based on a distribution and estimated parameters'],\n",
      "      dtype='object')\n",
      "Length of df: 5491\n"
     ]
    },
    {
     "data": {
      "text/html": [
       "<div>\n",
       "<style scoped>\n",
       "    .dataframe tbody tr th:only-of-type {\n",
       "        vertical-align: middle;\n",
       "    }\n",
       "\n",
       "    .dataframe tbody tr th {\n",
       "        vertical-align: top;\n",
       "    }\n",
       "\n",
       "    .dataframe thead th {\n",
       "        text-align: right;\n",
       "    }\n",
       "</style>\n",
       "<table border=\"1\" class=\"dataframe\">\n",
       "  <thead>\n",
       "    <tr style=\"text-align: right;\">\n",
       "      <th></th>\n",
       "      <th>Grade</th>\n",
       "      <th>pupilId</th>\n",
       "      <th>screeningId</th>\n",
       "      <th>WCPM_aloud_pred</th>\n",
       "      <th>date</th>\n",
       "      <th>Screening month</th>\n",
       "      <th>School month</th>\n",
       "      <th>Percentile</th>\n",
       "    </tr>\n",
       "  </thead>\n",
       "  <tbody>\n",
       "    <tr>\n",
       "      <th>0</th>\n",
       "      <td>1</td>\n",
       "      <td>a378106a-79c6-4b46-a92c-a23dc2fb81b1</td>\n",
       "      <td>808b6a03-c86d-4538-a556-9d86241ff27f</td>\n",
       "      <td>74.743744</td>\n",
       "      <td>Recording date: 2019-02-12 (UTC)</td>\n",
       "      <td>2</td>\n",
       "      <td>7</td>\n",
       "      <td>86</td>\n",
       "    </tr>\n",
       "    <tr>\n",
       "      <th>1</th>\n",
       "      <td>1</td>\n",
       "      <td>a378106a-79c6-4b46-a92c-a23dc2fb81b1</td>\n",
       "      <td>808b6a03-c86d-4538-a556-9d86241ff27f</td>\n",
       "      <td>49.012463</td>\n",
       "      <td>Recording date: 2019-02-12 (UTC)</td>\n",
       "      <td>2</td>\n",
       "      <td>7</td>\n",
       "      <td>60</td>\n",
       "    </tr>\n",
       "    <tr>\n",
       "      <th>2</th>\n",
       "      <td>1</td>\n",
       "      <td>d3f36cb4-a2fe-485d-9962-dc82bb5954d3</td>\n",
       "      <td>1a380112-130f-4c03-9fcf-517ec645fd74</td>\n",
       "      <td>38.814514</td>\n",
       "      <td>Recording date: 2019-05-15 (UTC)</td>\n",
       "      <td>5</td>\n",
       "      <td>10</td>\n",
       "      <td>28</td>\n",
       "    </tr>\n",
       "    <tr>\n",
       "      <th>3</th>\n",
       "      <td>1</td>\n",
       "      <td>d3f36cb4-a2fe-485d-9962-dc82bb5954d3</td>\n",
       "      <td>1a380112-130f-4c03-9fcf-517ec645fd74</td>\n",
       "      <td>57.714653</td>\n",
       "      <td>Recording date: 2019-05-15 (UTC)</td>\n",
       "      <td>5</td>\n",
       "      <td>10</td>\n",
       "      <td>46</td>\n",
       "    </tr>\n",
       "    <tr>\n",
       "      <th>4</th>\n",
       "      <td>1</td>\n",
       "      <td>8cedcb42-c0d3-4223-93bf-49806e4fed5e</td>\n",
       "      <td>00c85570-93d9-4bde-af82-f4be82966205</td>\n",
       "      <td>131.113900</td>\n",
       "      <td>Recording date: 2019-05-29 (UTC)</td>\n",
       "      <td>5</td>\n",
       "      <td>10</td>\n",
       "      <td>97</td>\n",
       "    </tr>\n",
       "  </tbody>\n",
       "</table>\n",
       "</div>"
      ],
      "text/plain": [
       "   Grade                               pupilId  \\\n",
       "0      1  a378106a-79c6-4b46-a92c-a23dc2fb81b1   \n",
       "1      1  a378106a-79c6-4b46-a92c-a23dc2fb81b1   \n",
       "2      1  d3f36cb4-a2fe-485d-9962-dc82bb5954d3   \n",
       "3      1  d3f36cb4-a2fe-485d-9962-dc82bb5954d3   \n",
       "4      1  8cedcb42-c0d3-4223-93bf-49806e4fed5e   \n",
       "\n",
       "                            screeningId  WCPM_aloud_pred  \\\n",
       "0  808b6a03-c86d-4538-a556-9d86241ff27f        74.743744   \n",
       "1  808b6a03-c86d-4538-a556-9d86241ff27f        49.012463   \n",
       "2  1a380112-130f-4c03-9fcf-517ec645fd74        38.814514   \n",
       "3  1a380112-130f-4c03-9fcf-517ec645fd74        57.714653   \n",
       "4  00c85570-93d9-4bde-af82-f4be82966205       131.113900   \n",
       "\n",
       "                               date  Screening month  School month  Percentile  \n",
       "0  Recording date: 2019-02-12 (UTC)                2             7          86  \n",
       "1  Recording date: 2019-02-12 (UTC)                2             7          60  \n",
       "2  Recording date: 2019-05-15 (UTC)                5            10          28  \n",
       "3  Recording date: 2019-05-15 (UTC)                5            10          46  \n",
       "4  Recording date: 2019-05-29 (UTC)                5            10          97  "
      ]
     },
     "execution_count": 2,
     "metadata": {},
     "output_type": "execute_result"
    }
   ],
   "source": [
    "filename = os.path.join(\"data\", \"StatisticalData.csv\")\n",
    "print(pd.read_csv(filename, header=[0]).columns)\n",
    "df = pd.read_csv(filename, header=[1])\n",
    "print(f\"Length of df: {len(df)}\")\n",
    "df.head()"
   ]
  },
  {
   "cell_type": "markdown",
   "metadata": {},
   "source": [
    "# a)\n",
    "In order to produce the table in the description we do the following:\n",
    "\n",
    "For the number of students in the grades respectively, we \n",
    "\n",
    "1. Group the data by Grade\n",
    "2. After the grouping, the pupilId is extracted (for each group now)\n",
    "3. Last, the number of unique pipilIds is extracted\n",
    "\n",
    "For the number of screening sessions\n",
    "\n",
    "1. Group the data by grade\n",
    "2. Extract the screeningId (for each group)\n",
    "3. Extract the number of unique screening id's."
   ]
  },
  {
   "cell_type": "code",
   "execution_count": 3,
   "metadata": {},
   "outputs": [
    {
     "data": {
      "text/html": [
       "<div>\n",
       "<style scoped>\n",
       "    .dataframe tbody tr th:only-of-type {\n",
       "        vertical-align: middle;\n",
       "    }\n",
       "\n",
       "    .dataframe tbody tr th {\n",
       "        vertical-align: top;\n",
       "    }\n",
       "\n",
       "    .dataframe thead th {\n",
       "        text-align: right;\n",
       "    }\n",
       "</style>\n",
       "<table border=\"1\" class=\"dataframe\">\n",
       "  <thead>\n",
       "    <tr style=\"text-align: right;\">\n",
       "      <th>Grade</th>\n",
       "      <th>1</th>\n",
       "      <th>2</th>\n",
       "      <th>3</th>\n",
       "      <th>4</th>\n",
       "      <th>5</th>\n",
       "      <th>6</th>\n",
       "      <th>7</th>\n",
       "      <th>8</th>\n",
       "    </tr>\n",
       "  </thead>\n",
       "  <tbody>\n",
       "    <tr>\n",
       "      <th>Number of screening sessions</th>\n",
       "      <td>188</td>\n",
       "      <td>760</td>\n",
       "      <td>1830</td>\n",
       "      <td>781</td>\n",
       "      <td>695</td>\n",
       "      <td>595</td>\n",
       "      <td>194</td>\n",
       "      <td>171</td>\n",
       "    </tr>\n",
       "    <tr>\n",
       "      <th>Number of students</th>\n",
       "      <td>171</td>\n",
       "      <td>532</td>\n",
       "      <td>932</td>\n",
       "      <td>547</td>\n",
       "      <td>439</td>\n",
       "      <td>368</td>\n",
       "      <td>158</td>\n",
       "      <td>149</td>\n",
       "    </tr>\n",
       "  </tbody>\n",
       "</table>\n",
       "</div>"
      ],
      "text/plain": [
       "Grade                           1    2     3    4    5    6    7    8\n",
       "Number of screening sessions  188  760  1830  781  695  595  194  171\n",
       "Number of students            171  532   932  547  439  368  158  149"
      ]
     },
     "execution_count": 3,
     "metadata": {},
     "output_type": "execute_result"
    }
   ],
   "source": [
    "students  = df.groupby('Grade')['pupilId'].nunique()\n",
    "sessions  = df.groupby('Grade')['screeningId'].nunique()\n",
    "\n",
    "d = {'Number of screening sessions': sessions, \n",
    "     'Number of students': students}\n",
    "df_result = pd.DataFrame(d)\n",
    "df_result.T.head()"
   ]
  },
  {
   "cell_type": "markdown",
   "metadata": {},
   "source": [
    "### Result: See the table above.\n",
    "## b)"
   ]
  },
  {
   "cell_type": "code",
   "execution_count": 5,
   "metadata": {},
   "outputs": [
    {
     "name": "stdout",
     "output_type": "stream",
     "text": [
      "[ 2  5  9  1  6  3 11 12 10  4  7]\n"
     ]
    },
    {
     "data": {
      "text/html": [
       "<div>\n",
       "<style scoped>\n",
       "    .dataframe tbody tr th:only-of-type {\n",
       "        vertical-align: middle;\n",
       "    }\n",
       "\n",
       "    .dataframe tbody tr th {\n",
       "        vertical-align: top;\n",
       "    }\n",
       "\n",
       "    .dataframe thead th {\n",
       "        text-align: right;\n",
       "    }\n",
       "</style>\n",
       "<table border=\"1\" class=\"dataframe\">\n",
       "  <thead>\n",
       "    <tr style=\"text-align: right;\">\n",
       "      <th>Screening month</th>\n",
       "      <th>1 - 5</th>\n",
       "      <th>6 - 10</th>\n",
       "      <th>10 - 13</th>\n",
       "    </tr>\n",
       "  </thead>\n",
       "  <tbody>\n",
       "    <tr>\n",
       "      <th>Mu</th>\n",
       "      <td>120.760475</td>\n",
       "      <td>113.160552</td>\n",
       "      <td>110.500512</td>\n",
       "    </tr>\n",
       "    <tr>\n",
       "      <th>Sigma</th>\n",
       "      <td>46.700514</td>\n",
       "      <td>51.6899</td>\n",
       "      <td>49.665635</td>\n",
       "    </tr>\n",
       "    <tr>\n",
       "      <th>Number of observations</th>\n",
       "      <td>1799</td>\n",
       "      <td>2904</td>\n",
       "      <td>2441</td>\n",
       "    </tr>\n",
       "  </tbody>\n",
       "</table>\n",
       "</div>"
      ],
      "text/plain": [
       "Screening month              1 - 5      6 - 10     10 - 13\n",
       "Mu                      120.760475  113.160552  110.500512\n",
       "Sigma                    46.700514     51.6899   49.665635\n",
       "Number of observations        1799        2904        2441"
      ]
     },
     "execution_count": 5,
     "metadata": {},
     "output_type": "execute_result"
    }
   ],
   "source": [
    "print(df[\"Screening month\"].unique())  # Print the number of unique screening months\n",
    "\n",
    "# Screening months to group together according to the description\n",
    "screening_months = [[13, 17],\n",
    "                    [18, 24],\n",
    "                    [25, 29],\n",
    "                    [30, 37],\n",
    "                    [38, 41],\n",
    "                    [42, 48]]\n",
    "\n",
    "# OL 1-12 months for testing\n",
    "screening_months = [[1,5],[6,10],[10,13]]\n",
    "\n",
    "# Index/row names in dataframe\n",
    "df_2 = pd.DataFrame(columns=[\"Mu\", \n",
    "                             \"Sigma\", \n",
    "                             \"Number of observations\", \n",
    "                             \"Screening month\"])\n",
    "\n",
    "# Iterate through the intervals specified by screening_months\n",
    "for screening_month in screening_months:\n",
    "    df_tmp = df[df['Screening month'].between(*screening_month)]  # Extract only interval\n",
    "    n_observation = len(df_tmp)  # Number of observerations\n",
    "    mu = df_tmp[\"WCPM_aloud_pred\"].mean()  # Mean value\n",
    "    sigma = df_tmp[\"WCPM_aloud_pred\"].std()  # Standard deviation\n",
    "    \n",
    "    # Add the data for the given interval to the right column (row)\n",
    "    df_2 = df_2.append({\"Mu\": mu, \n",
    "                        \"Sigma\": sigma, \n",
    "                        \"Number of observations\":n_observation,\n",
    "                        \"Screening month\": f\"{screening_month[0]} - {screening_month[1]}\"}, \n",
    "                        ignore_index=True)\n",
    "                    \n",
    "df_2.index = df_2[\"Screening month\"]\n",
    "df_2 = df_2.drop(\"Screening month\", axis=1)\n",
    "df_2.head().T  # Print the transposed in order to present in same format as description"
   ]
  },
  {
   "cell_type": "markdown",
   "metadata": {},
   "source": [
    "### Result: See table above.\n",
    "### Comment:\n",
    "\n",
    "Note that the description specify screening months 13 - 48.\n",
    "However, in the data, the screening months are 1-12 (except 8).\n",
    "\n",
    "- Is this a mistake in the preparation of the data, without intention?\n",
    "- Is this a mistake in the data, where the purpose is that I should notice?\n",
    "    - One option would be to parse the date column and start an accumulated counter (first month in second year of the screening would then be 13).\n",
    "- Have I misunderstood something?"
   ]
  }
 ],
 "metadata": {
  "kernelspec": {
   "display_name": "Python 3 (ipykernel)",
   "language": "python",
   "name": "python3"
  },
  "language_info": {
   "codemirror_mode": {
    "name": "ipython",
    "version": 3
   },
   "file_extension": ".py",
   "mimetype": "text/x-python",
   "name": "python",
   "nbconvert_exporter": "python",
   "pygments_lexer": "ipython3",
   "version": "3.9.5"
  }
 },
 "nbformat": 4,
 "nbformat_minor": 5
}
