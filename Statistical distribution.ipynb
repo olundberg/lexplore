{
 "cells": [
  {
   "cell_type": "markdown",
   "id": "03e17a22-0fd4-4633-8a38-23880e7c3952",
   "metadata": {},
   "source": [
    "# Statistical distribution\n",
    "lundberg.oscar@gmail.com"
   ]
  },
  {
   "cell_type": "code",
   "execution_count": 2,
   "id": "a071aa05-18a4-411d-bd01-73e5af026516",
   "metadata": {},
   "outputs": [],
   "source": [
    "import pandas as pd\n",
    "import os"
   ]
  },
  {
   "cell_type": "code",
   "execution_count": 7,
   "id": "9aa1a873-ab20-4176-91a1-fc01c5a48775",
   "metadata": {},
   "outputs": [
    {
     "name": "stdout",
     "output_type": "stream",
     "text": [
      "Index(['Unnamed: 0', 'Unnamed: 1', 'Unnamed: 2',\n",
      "       'The predicted value of target variable from ML model', 'Unnamed: 4',\n",
      "       'Unnamed: 5', 'August Grade 1 is School month 1',\n",
      "       'Percentile based on a distribution and estimated parameters'],\n",
      "      dtype='object')\n",
      "Length of df: 5491\n"
     ]
    },
    {
     "data": {
      "text/html": [
       "<div>\n",
       "<style scoped>\n",
       "    .dataframe tbody tr th:only-of-type {\n",
       "        vertical-align: middle;\n",
       "    }\n",
       "\n",
       "    .dataframe tbody tr th {\n",
       "        vertical-align: top;\n",
       "    }\n",
       "\n",
       "    .dataframe thead th {\n",
       "        text-align: right;\n",
       "    }\n",
       "</style>\n",
       "<table border=\"1\" class=\"dataframe\">\n",
       "  <thead>\n",
       "    <tr style=\"text-align: right;\">\n",
       "      <th></th>\n",
       "      <th>Grade</th>\n",
       "      <th>pupilId</th>\n",
       "      <th>screeningId</th>\n",
       "      <th>WCPM_aloud_pred</th>\n",
       "      <th>date</th>\n",
       "      <th>Screening month</th>\n",
       "      <th>School month</th>\n",
       "      <th>Percentile</th>\n",
       "    </tr>\n",
       "  </thead>\n",
       "  <tbody>\n",
       "    <tr>\n",
       "      <th>0</th>\n",
       "      <td>1</td>\n",
       "      <td>a378106a-79c6-4b46-a92c-a23dc2fb81b1</td>\n",
       "      <td>808b6a03-c86d-4538-a556-9d86241ff27f</td>\n",
       "      <td>74.743744</td>\n",
       "      <td>Recording date: 2019-02-12 (UTC)</td>\n",
       "      <td>2</td>\n",
       "      <td>7</td>\n",
       "      <td>86</td>\n",
       "    </tr>\n",
       "    <tr>\n",
       "      <th>1</th>\n",
       "      <td>1</td>\n",
       "      <td>a378106a-79c6-4b46-a92c-a23dc2fb81b1</td>\n",
       "      <td>808b6a03-c86d-4538-a556-9d86241ff27f</td>\n",
       "      <td>49.012463</td>\n",
       "      <td>Recording date: 2019-02-12 (UTC)</td>\n",
       "      <td>2</td>\n",
       "      <td>7</td>\n",
       "      <td>60</td>\n",
       "    </tr>\n",
       "    <tr>\n",
       "      <th>2</th>\n",
       "      <td>1</td>\n",
       "      <td>d3f36cb4-a2fe-485d-9962-dc82bb5954d3</td>\n",
       "      <td>1a380112-130f-4c03-9fcf-517ec645fd74</td>\n",
       "      <td>38.814514</td>\n",
       "      <td>Recording date: 2019-05-15 (UTC)</td>\n",
       "      <td>5</td>\n",
       "      <td>10</td>\n",
       "      <td>28</td>\n",
       "    </tr>\n",
       "    <tr>\n",
       "      <th>3</th>\n",
       "      <td>1</td>\n",
       "      <td>d3f36cb4-a2fe-485d-9962-dc82bb5954d3</td>\n",
       "      <td>1a380112-130f-4c03-9fcf-517ec645fd74</td>\n",
       "      <td>57.714653</td>\n",
       "      <td>Recording date: 2019-05-15 (UTC)</td>\n",
       "      <td>5</td>\n",
       "      <td>10</td>\n",
       "      <td>46</td>\n",
       "    </tr>\n",
       "    <tr>\n",
       "      <th>4</th>\n",
       "      <td>1</td>\n",
       "      <td>8cedcb42-c0d3-4223-93bf-49806e4fed5e</td>\n",
       "      <td>00c85570-93d9-4bde-af82-f4be82966205</td>\n",
       "      <td>131.113900</td>\n",
       "      <td>Recording date: 2019-05-29 (UTC)</td>\n",
       "      <td>5</td>\n",
       "      <td>10</td>\n",
       "      <td>97</td>\n",
       "    </tr>\n",
       "  </tbody>\n",
       "</table>\n",
       "</div>"
      ],
      "text/plain": [
       "   Grade                               pupilId  \\\n",
       "0      1  a378106a-79c6-4b46-a92c-a23dc2fb81b1   \n",
       "1      1  a378106a-79c6-4b46-a92c-a23dc2fb81b1   \n",
       "2      1  d3f36cb4-a2fe-485d-9962-dc82bb5954d3   \n",
       "3      1  d3f36cb4-a2fe-485d-9962-dc82bb5954d3   \n",
       "4      1  8cedcb42-c0d3-4223-93bf-49806e4fed5e   \n",
       "\n",
       "                            screeningId  WCPM_aloud_pred  \\\n",
       "0  808b6a03-c86d-4538-a556-9d86241ff27f        74.743744   \n",
       "1  808b6a03-c86d-4538-a556-9d86241ff27f        49.012463   \n",
       "2  1a380112-130f-4c03-9fcf-517ec645fd74        38.814514   \n",
       "3  1a380112-130f-4c03-9fcf-517ec645fd74        57.714653   \n",
       "4  00c85570-93d9-4bde-af82-f4be82966205       131.113900   \n",
       "\n",
       "                               date  Screening month  School month  Percentile  \n",
       "0  Recording date: 2019-02-12 (UTC)                2             7          86  \n",
       "1  Recording date: 2019-02-12 (UTC)                2             7          60  \n",
       "2  Recording date: 2019-05-15 (UTC)                5            10          28  \n",
       "3  Recording date: 2019-05-15 (UTC)                5            10          46  \n",
       "4  Recording date: 2019-05-29 (UTC)                5            10          97  "
      ]
     },
     "execution_count": 7,
     "metadata": {},
     "output_type": "execute_result"
    }
   ],
   "source": [
    "filename = os.path.join(\"data\", \"StatisticalData.csv\")\n",
    "print(pd.read_csv(filename, header=[0]).columns)\n",
    "df = pd.read_csv(filename, header=[1])\n",
    "print(f\"Length of df: {len(df)}\")\n",
    "df.head()"
   ]
  },
  {
   "cell_type": "markdown",
   "id": "3d20db08-da3d-4a17-b53a-517a68c86584",
   "metadata": {},
   "source": [
    "# a)"
   ]
  },
  {
   "cell_type": "code",
   "execution_count": 6,
   "id": "afd2dbe3-8c09-411d-a35b-8fb4ca5bc52c",
   "metadata": {},
   "outputs": [
    {
     "data": {
      "text/html": [
       "<div>\n",
       "<style scoped>\n",
       "    .dataframe tbody tr th:only-of-type {\n",
       "        vertical-align: middle;\n",
       "    }\n",
       "\n",
       "    .dataframe tbody tr th {\n",
       "        vertical-align: top;\n",
       "    }\n",
       "\n",
       "    .dataframe thead th {\n",
       "        text-align: right;\n",
       "    }\n",
       "</style>\n",
       "<table border=\"1\" class=\"dataframe\">\n",
       "  <thead>\n",
       "    <tr style=\"text-align: right;\">\n",
       "      <th>Grade</th>\n",
       "      <th>1</th>\n",
       "      <th>2</th>\n",
       "      <th>3</th>\n",
       "      <th>4</th>\n",
       "      <th>5</th>\n",
       "      <th>6</th>\n",
       "      <th>7</th>\n",
       "      <th>8</th>\n",
       "    </tr>\n",
       "  </thead>\n",
       "  <tbody>\n",
       "    <tr>\n",
       "      <th>Number of screening sessions</th>\n",
       "      <td>188</td>\n",
       "      <td>760</td>\n",
       "      <td>1830</td>\n",
       "      <td>781</td>\n",
       "      <td>695</td>\n",
       "      <td>595</td>\n",
       "      <td>194</td>\n",
       "      <td>171</td>\n",
       "    </tr>\n",
       "    <tr>\n",
       "      <th>Number of students</th>\n",
       "      <td>171</td>\n",
       "      <td>532</td>\n",
       "      <td>932</td>\n",
       "      <td>547</td>\n",
       "      <td>439</td>\n",
       "      <td>368</td>\n",
       "      <td>158</td>\n",
       "      <td>149</td>\n",
       "    </tr>\n",
       "  </tbody>\n",
       "</table>\n",
       "</div>"
      ],
      "text/plain": [
       "Grade                           1    2     3    4    5    6    7    8\n",
       "Number of screening sessions  188  760  1830  781  695  595  194  171\n",
       "Number of students            171  532   932  547  439  368  158  149"
      ]
     },
     "execution_count": 6,
     "metadata": {},
     "output_type": "execute_result"
    }
   ],
   "source": [
    "students  = df.groupby('Grade')['pupilId'].nunique()\n",
    "sessions  = df.groupby('Grade')['screeningId'].nunique()\n",
    "\n",
    "d = {'Number of screening sessions': sessions, \n",
    "     'Number of students': students}\n",
    "df_result = pd.DataFrame(d)\n",
    "df_result.T.head()"
   ]
  },
  {
   "cell_type": "markdown",
   "id": "28aaedc6-c225-4491-bbf0-f94b48cec26f",
   "metadata": {},
   "source": [
    "## b)"
   ]
  },
  {
   "cell_type": "code",
   "execution_count": 4,
   "id": "07b40bbc-7ac0-4d80-a4ff-c05133d84582",
   "metadata": {},
   "outputs": [
    {
     "name": "stdout",
     "output_type": "stream",
     "text": [
      "[ 2  5  9  1  6  3 11 12 10  4  7]\n"
     ]
    },
    {
     "data": {
      "text/html": [
       "<div>\n",
       "<style scoped>\n",
       "    .dataframe tbody tr th:only-of-type {\n",
       "        vertical-align: middle;\n",
       "    }\n",
       "\n",
       "    .dataframe tbody tr th {\n",
       "        vertical-align: top;\n",
       "    }\n",
       "\n",
       "    .dataframe thead th {\n",
       "        text-align: right;\n",
       "    }\n",
       "</style>\n",
       "<table border=\"1\" class=\"dataframe\">\n",
       "  <thead>\n",
       "    <tr style=\"text-align: right;\">\n",
       "      <th>Screening month</th>\n",
       "      <th>1 - 5</th>\n",
       "      <th>6 - 10</th>\n",
       "      <th>10 - 13</th>\n",
       "    </tr>\n",
       "  </thead>\n",
       "  <tbody>\n",
       "    <tr>\n",
       "      <th>Mu</th>\n",
       "      <td>120.760475</td>\n",
       "      <td>113.160552</td>\n",
       "      <td>110.500512</td>\n",
       "    </tr>\n",
       "    <tr>\n",
       "      <th>Sigma</th>\n",
       "      <td>46.700514</td>\n",
       "      <td>51.6899</td>\n",
       "      <td>49.665635</td>\n",
       "    </tr>\n",
       "    <tr>\n",
       "      <th>Number of observations</th>\n",
       "      <td>1799</td>\n",
       "      <td>2904</td>\n",
       "      <td>2441</td>\n",
       "    </tr>\n",
       "  </tbody>\n",
       "</table>\n",
       "</div>"
      ],
      "text/plain": [
       "Screening month              1 - 5      6 - 10     10 - 13\n",
       "Mu                      120.760475  113.160552  110.500512\n",
       "Sigma                    46.700514     51.6899   49.665635\n",
       "Number of observations        1799        2904        2441"
      ]
     },
     "execution_count": 4,
     "metadata": {},
     "output_type": "execute_result"
    }
   ],
   "source": [
    "print(df[\"Screening month\"].unique())\n",
    "screening_months = [[13, 17],\n",
    "                    [18, 24],\n",
    "                    [25, 29],\n",
    "                    [30, 37],\n",
    "                    [38, 41],\n",
    "                    [42, 48]]\n",
    "screening_months = [[1,5],[6,10],[10,13]]\n",
    "\n",
    "df_2 = pd.DataFrame(columns=[\"Mu\", \n",
    "                             \"Sigma\", \n",
    "                             \"Number of observations\", \n",
    "                             \"Screening month\"])\n",
    "\n",
    "for screening_month in screening_months:\n",
    "    df_tmp = df[df['Screening month'].between(*screening_month)]\n",
    "    n_observation = len(df_tmp)\n",
    "    mu = df_tmp[\"WCPM_aloud_pred\"].mean()\n",
    "    sigma = df_tmp[\"WCPM_aloud_pred\"].std()\n",
    "    df_2 = df_2.append({\"Mu\": mu, \n",
    "                        \"Sigma\": sigma, \n",
    "                        \"Number of observations\":n_observation,\n",
    "                        \"Screening month\": f\"{screening_month[0]} - {screening_month[1]}\"}, \n",
    "                        ignore_index=True)\n",
    "                    \n",
    "df_2.index = df_2[\"Screening month\"]\n",
    "df_2 = df_2.drop(\"Screening month\", axis=1)\n",
    "df_2.head().T"
   ]
  }
 ],
 "metadata": {
  "kernelspec": {
   "display_name": "Python 3 (ipykernel)",
   "language": "python",
   "name": "python3"
  },
  "language_info": {
   "codemirror_mode": {
    "name": "ipython",
    "version": 3
   },
   "file_extension": ".py",
   "mimetype": "text/x-python",
   "name": "python",
   "nbconvert_exporter": "python",
   "pygments_lexer": "ipython3",
   "version": "3.9.5"
  }
 },
 "nbformat": 4,
 "nbformat_minor": 5
}
